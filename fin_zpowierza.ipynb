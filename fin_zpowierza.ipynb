{
 "cells": [
  {
   "cell_type": "markdown",
   "metadata": {},
   "source": [
    "\n",
    "##  Zapisz notebook w formacie imie_nazwisko_fin.ipynb"
   ]
  },
  {
   "cell_type": "markdown",
   "metadata": {},
   "source": [
    "## Zliczanie dużych liter\n",
    "\n",
    "Napisz funkcję `capital_index`, która przyjmie napis i zwróci listę indeksów na których występuje duża litera"
   ]
  },
  {
   "cell_type": "code",
   "execution_count": null,
   "metadata": {
    "ExecuteTime": {
     "end_time": "2020-02-05T15:27:13.998917Z",
     "start_time": "2020-02-05T15:27:13.996184Z"
    }
   },
   "outputs": [],
   "source": [
    "# tu rozwiązanie"
   ]
  },
  {
   "cell_type": "code",
   "execution_count": 10,
   "metadata": {},
   "outputs": [],
   "source": [
    "def capital_indexes(string):\n",
    "    lista = []\n",
    "    for i,j in enumerate(string):\n",
    "        if j == j.upper():\n",
    "            lista.append(i)\n",
    "    return lista\n",
    "\n",
    "assert capital_indexes(\"HeLlO\") == [0, 2, 4]"
   ]
  },
  {
   "cell_type": "markdown",
   "metadata": {},
   "source": [
    "## Zliczanie statusów\n",
    "\n",
    "Napisz funkcję `status_counter`, która przyjmie słownik ze statusami (zobacz test) oraz status i zwróci liczbę osób o zadanym statusie\n"
   ]
  },
  {
   "cell_type": "code",
   "execution_count": 24,
   "metadata": {
    "ExecuteTime": {
     "end_time": "2020-02-05T15:30:08.011650Z",
     "start_time": "2020-02-05T15:30:07.933434Z"
    }
   },
   "outputs": [],
   "source": [
    "statuses = {\n",
    "    \"Alice\": \"online\",\n",
    "    \"Bob\": \"offline\",\n",
    "    \"Eve\": \"online\",\n",
    "}\n",
    "\n",
    "def online_count(slownik, status):\n",
    "    ile = 0\n",
    "    for i in slownik:\n",
    "        if slownik[i] == status:\n",
    "            ile = ile + 1\n",
    "    return ile\n",
    "\n",
    "assert online_count(statuses, \"online\") == 2\n",
    "assert online_count(statuses, \"offline\") == 1"
   ]
  },
  {
   "cell_type": "markdown",
   "metadata": {},
   "source": [
    "## Sprawdzanie typów\n",
    "\n",
    "Napisz funkcję `only_ints`, która przyjmie dwa argumenty i zwróci prawdę jeśli oba są typu `int` w przeciwnym razie zwróci `False`"
   ]
  },
  {
   "cell_type": "code",
   "execution_count": 21,
   "metadata": {},
   "outputs": [],
   "source": [
    "def only_ints(a,b):\n",
    "    \n",
    "    if isinstance(a, bool) or isinstance(b, bool):\n",
    "        return False\n",
    "    elif isinstance(a, int) and isinstance(b, int):\n",
    "        return True\n",
    "    else:\n",
    "        return False\n",
    "    \n",
    "assert only_ints(1, 2) == True\n",
    "assert only_ints(1, True) == False\n",
    "assert only_ints(\"a\", 1) == False"
   ]
  },
  {
   "cell_type": "markdown",
   "metadata": {},
   "source": [
    "## Wyszukiwanie podwójnych znaków\n",
    "\n",
    "Zdefiniuj funkcję `double_letters` która przyjmie jako argument text. \n",
    "Funkcja zwróci prawdę jeśli w tekście występują obok siebie dwie identyczne litery.\n",
    "W przeciwnym wypadku zwróci False"
   ]
  },
  {
   "cell_type": "code",
   "execution_count": 23,
   "metadata": {},
   "outputs": [
    {
     "ename": "TypeError",
     "evalue": "unsupported operand type(s) for -: 'str' and 'int'",
     "output_type": "error",
     "traceback": [
      "\u001b[1;31m---------------------------------------------------------------------------\u001b[0m",
      "\u001b[1;31mTypeError\u001b[0m                                 Traceback (most recent call last)",
      "\u001b[1;32m<ipython-input-23-a062e969adee>\u001b[0m in \u001b[0;36m<module>\u001b[1;34m\u001b[0m\n\u001b[0;32m      6\u001b[0m     \u001b[1;32mreturn\u001b[0m \u001b[0mwynik\u001b[0m\u001b[1;33m\u001b[0m\u001b[1;33m\u001b[0m\u001b[0m\n\u001b[0;32m      7\u001b[0m \u001b[1;33m\u001b[0m\u001b[0m\n\u001b[1;32m----> 8\u001b[1;33m \u001b[1;32massert\u001b[0m \u001b[0mdouble_letters\u001b[0m\u001b[1;33m(\u001b[0m\u001b[1;34m\"ala\"\u001b[0m\u001b[1;33m)\u001b[0m \u001b[1;33m==\u001b[0m \u001b[1;32mFalse\u001b[0m\u001b[1;33m\u001b[0m\u001b[1;33m\u001b[0m\u001b[0m\n\u001b[0m\u001b[0;32m      9\u001b[0m \u001b[1;32massert\u001b[0m \u001b[0mdouble_letters\u001b[0m\u001b[1;33m(\u001b[0m\u001b[1;34m\"Hello\"\u001b[0m\u001b[1;33m)\u001b[0m \u001b[1;33m==\u001b[0m \u001b[1;32mTrue\u001b[0m\u001b[1;33m\u001b[0m\u001b[1;33m\u001b[0m\u001b[0m\n\u001b[0;32m     10\u001b[0m \u001b[1;32massert\u001b[0m \u001b[0mdouble_letters\u001b[0m\u001b[1;33m(\u001b[0m\u001b[1;34m\"abc\"\u001b[0m\u001b[1;33m)\u001b[0m \u001b[1;33m==\u001b[0m \u001b[1;32mFalse\u001b[0m\u001b[1;33m\u001b[0m\u001b[1;33m\u001b[0m\u001b[0m\n",
      "\u001b[1;32m<ipython-input-23-a062e969adee>\u001b[0m in \u001b[0;36mdouble_letters\u001b[1;34m(string)\u001b[0m\n\u001b[0;32m      2\u001b[0m     \u001b[0mwynik\u001b[0m \u001b[1;33m=\u001b[0m \u001b[1;32mFalse\u001b[0m\u001b[1;33m\u001b[0m\u001b[1;33m\u001b[0m\u001b[0m\n\u001b[0;32m      3\u001b[0m     \u001b[1;32mfor\u001b[0m \u001b[0mi\u001b[0m \u001b[1;32min\u001b[0m \u001b[0mstring\u001b[0m\u001b[1;33m[\u001b[0m\u001b[1;36m1\u001b[0m\u001b[1;33m:\u001b[0m\u001b[1;33m]\u001b[0m\u001b[1;33m:\u001b[0m\u001b[1;33m\u001b[0m\u001b[1;33m\u001b[0m\u001b[0m\n\u001b[1;32m----> 4\u001b[1;33m         \u001b[1;32mif\u001b[0m \u001b[0mi\u001b[0m \u001b[1;33m==\u001b[0m \u001b[0mi\u001b[0m\u001b[1;33m-\u001b[0m\u001b[1;36m1\u001b[0m\u001b[1;33m:\u001b[0m\u001b[1;33m\u001b[0m\u001b[1;33m\u001b[0m\u001b[0m\n\u001b[0m\u001b[0;32m      5\u001b[0m             \u001b[0mwynik\u001b[0m \u001b[1;33m=\u001b[0m \u001b[1;32mTrue\u001b[0m\u001b[1;33m\u001b[0m\u001b[1;33m\u001b[0m\u001b[0m\n\u001b[0;32m      6\u001b[0m     \u001b[1;32mreturn\u001b[0m \u001b[0mwynik\u001b[0m\u001b[1;33m\u001b[0m\u001b[1;33m\u001b[0m\u001b[0m\n",
      "\u001b[1;31mTypeError\u001b[0m: unsupported operand type(s) for -: 'str' and 'int'"
     ]
    }
   ],
   "source": [
    "def double_letters(string):\n",
    "    wynik = False\n",
    "    for i in string[1:]:\n",
    "        if i == i-1:\n",
    "            wynik = True\n",
    "    return wynik\n",
    "\n",
    "assert double_letters(\"ala\") == False\n",
    "assert double_letters(\"Hello\") == True\n",
    "assert double_letters(\"abc\") == False\n",
    "assert double_letters(\"nono\") == False"
   ]
  },
  {
   "cell_type": "markdown",
   "metadata": {},
   "source": [
    "## Anagram\n",
    "\n",
    "Napisz funkcję, która srpawdzi, czy podane dwa teksty są anagramami. Tzn.. czy z liter jednego da się ułożyć drugi"
   ]
  },
  {
   "cell_type": "code",
   "execution_count": null,
   "metadata": {},
   "outputs": [],
   "source": []
  },
  {
   "cell_type": "code",
   "execution_count": null,
   "metadata": {},
   "outputs": [],
   "source": [
    "assert is_anagram(\"typhoon\", \"opython\") == True \n",
    "assert is_anagram(\"Alice\", \"Bob\") == False\n"
   ]
  },
  {
   "cell_type": "markdown",
   "metadata": {},
   "source": [
    "## Największa różnica\n",
    "\n",
    "Napisz funkcję `largest_difference`, która dla zadanej listy liczby zwróci wartość największej różnicy miedzy jej elementami\n"
   ]
  },
  {
   "cell_type": "code",
   "execution_count": 25,
   "metadata": {},
   "outputs": [],
   "source": [
    "def largest_difference(lista):\n",
    "    mx = max(lista)\n",
    "    mn = min(lista)\n",
    "    return mx - mn\n",
    "\n",
    "assert largest_difference([1, 2, 3]) == 2"
   ]
  },
  {
   "cell_type": "markdown",
   "metadata": {},
   "source": [
    "## Kółko i krzyżyk - pozycja\n",
    "\n",
    "Mamy przykładową planszę:\n",
    "\n",
    "    1:  X | O | X\n",
    "       -----------\n",
    "    2:    |   |  \n",
    "       -----------\n",
    "    3:  O |   |\n",
    "\n",
    "        A   B  C\n",
    "\n",
    "Może być ona reprezentowana w Pythonie jako:\n",
    "\n",
    "    board = [\n",
    "        [\"X\", \"O\", \"X\"],\n",
    "        [\" \", \" \", \" \"],\n",
    "        [\"O\", \" \", \" \"],\n",
    "    ]\n",
    "\n",
    "Napisz funkcję `get_row_col`, która przyjmie napis reprezentujący położenie na planszy\n",
    "i zwróci tuplę odpowiadająca pozycji w `board`\n",
    "\n"
   ]
  },
  {
   "cell_type": "code",
   "execution_count": 26,
   "metadata": {
    "ExecuteTime": {
     "end_time": "2020-02-05T15:51:17.662699Z",
     "start_time": "2020-02-05T15:51:17.574871Z"
    }
   },
   "outputs": [],
   "source": [
    "def get_row_col(polozenie):\n",
    "    lt_l = {\"A\":1,\"B\":2,\"C\":3}\n",
    "    k = polozenie[0]\n",
    "    w = int(polozenie[1])\n",
    "    return (w-1, lt_l[k]-1)\n",
    "\n",
    "assert get_row_col('A3') == (2, 0)"
   ]
  },
  {
   "cell_type": "markdown",
   "metadata": {},
   "source": [
    "## Person\n",
    "\n",
    "Zdefiniuj klasę Person, którą będzie tworzyć się podając name, last_name, b_year\n",
    "Niech klasa ma atrybut dynamiczny wyliczający wiek danej osoby\n",
    "\n",
    "Zrzutowanie na `str` powinno być w formacie \"J.Nowak (39)\"\n"
   ]
  },
  {
   "cell_type": "code",
   "execution_count": null,
   "metadata": {},
   "outputs": [],
   "source": []
  },
  {
   "cell_type": "code",
   "execution_count": null,
   "metadata": {
    "ExecuteTime": {
     "end_time": "2020-02-05T15:54:17.801782Z",
     "start_time": "2020-02-05T15:54:17.684934Z"
    }
   },
   "outputs": [],
   "source": [
    "person = Person(\"Jan\", \"Nowak\", 1981)\n",
    "\n",
    "assert str(person) == \"J.Nowak (39)\""
   ]
  },
  {
   "cell_type": "markdown",
   "metadata": {},
   "source": [
    "## Numpy\n",
    "\n",
    "Przy pomocy numpy utwórz tablicę randomowych wartości o długości 100. \n",
    "Zwróć ich średnią"
   ]
  },
  {
   "cell_type": "code",
   "execution_count": 27,
   "metadata": {},
   "outputs": [
    {
     "data": {
      "text/plain": [
       "array([ 0,  1,  2,  3,  4,  5,  6,  7,  8,  9, 10, 11, 12, 13, 14, 15, 16,\n",
       "       17, 18, 19, 20, 21, 22, 23, 24, 25, 26, 27, 28, 29, 30, 31, 32, 33,\n",
       "       34, 35, 36, 37, 38, 39, 40, 41, 42, 43, 44, 45, 46, 47, 48, 49, 50,\n",
       "       51, 52, 53, 54, 55, 56, 57, 58, 59, 60, 61, 62, 63, 64, 65, 66, 67,\n",
       "       68, 69, 70, 71, 72, 73, 74, 75, 76, 77, 78, 79, 80, 81, 82, 83, 84,\n",
       "       85, 86, 87, 88, 89, 90, 91, 92, 93, 94, 95, 96, 97, 98, 99])"
      ]
     },
     "execution_count": 27,
     "metadata": {},
     "output_type": "execute_result"
    }
   ],
   "source": [
    "import numpy as np\n",
    "\n",
    "np.arange(100)"
   ]
  }
 ],
 "metadata": {
  "kernelspec": {
   "display_name": "Python 3",
   "language": "python",
   "name": "python3"
  },
  "language_info": {
   "codemirror_mode": {
    "name": "ipython",
    "version": 3
   },
   "file_extension": ".py",
   "mimetype": "text/x-python",
   "name": "python",
   "nbconvert_exporter": "python",
   "pygments_lexer": "ipython3",
   "version": "3.7.4"
  },
  "toc": {
   "base_numbering": 1,
   "nav_menu": {},
   "number_sections": true,
   "sideBar": true,
   "skip_h1_title": false,
   "title_cell": "Table of Contents",
   "title_sidebar": "Contents",
   "toc_cell": false,
   "toc_position": {},
   "toc_section_display": true,
   "toc_window_display": false
  }
 },
 "nbformat": 4,
 "nbformat_minor": 2
}
